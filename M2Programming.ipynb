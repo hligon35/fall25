{
 "cells": [
  {
   "cell_type": "code",
   "execution_count": 5,
   "id": "4a0c944e-f816-4e1c-8126-a6aa5e443b50",
   "metadata": {},
   "outputs": [
    {
     "name": "stdout",
     "output_type": "stream",
     "text": [
      "too low\n"
     ]
    }
   ],
   "source": [
    "# 4.1\n",
    "secret = 7\n",
    "guess = 3\n",
    "\n",
    "if guess < secret:\n",
    "    print(\"too low\")\n",
    "elif guess > secret:\n",
    "    print(\"too high\")\n",
    "else:\n",
    "    print(\"just right\")\n",
    "\n"
   ]
  },
  {
   "cell_type": "code",
   "execution_count": 12,
   "id": "fa6c9990-4d9d-407f-b802-70f41f57f01e",
   "metadata": {},
   "outputs": [
    {
     "name": "stdout",
     "output_type": "stream",
     "text": [
      "cherry\n"
     ]
    }
   ],
   "source": [
    "# 4.2\n",
    "small = True\n",
    "green = False\n",
    "\n",
    "if small and green:\n",
    "    print(\"pea\")\n",
    "elif small and not green:\n",
    "    print(\"cherry\")\n",
    "elif not small and green:\n",
    "    print(\"watermelon\")\n",
    "else:\n",
    "    print(\"pumpkin\")"
   ]
  },
  {
   "cell_type": "code",
   "execution_count": 13,
   "id": "2a1e2d93-822d-4c3d-9fad-83493ce6344e",
   "metadata": {},
   "outputs": [
    {
     "name": "stdout",
     "output_type": "stream",
     "text": [
      "3\n",
      "2\n",
      "1\n",
      "0\n"
     ]
    }
   ],
   "source": [
    "# 6.1\n",
    "numbers = [3, 2, 1, 0]\n",
    "\n",
    "for num in numbers:\n",
    "    print(num)\n"
   ]
  },
  {
   "cell_type": "code",
   "execution_count": 17,
   "id": "4c486b41-a6e7-4866-a830-bfe39a86fb54",
   "metadata": {},
   "outputs": [
    {
     "name": "stdout",
     "output_type": "stream",
     "text": [
      "too low\n",
      "too low\n",
      "too low\n",
      "too low\n",
      "too low\n",
      "too low\n",
      "found it!\n"
     ]
    }
   ],
   "source": [
    "# 6.2\n",
    "guessMe = 7\n",
    "number = 1\n",
    "\n",
    "while True:\n",
    "    if number < guessMe:\n",
    "        print(\"too low\")\n",
    "    elif number == guessMe:\n",
    "        print(\"found it!\")\n",
    "        break\n",
    "    else:  \n",
    "        print(\"oops\")\n",
    "        break\n",
    "    \n",
    "    number += 1"
   ]
  },
  {
   "cell_type": "code",
   "execution_count": 20,
   "id": "5ada5cb2-56cb-4f3c-a9de-d6f5f15d9fa6",
   "metadata": {},
   "outputs": [
    {
     "name": "stdout",
     "output_type": "stream",
     "text": [
      "found it!\n"
     ]
    }
   ],
   "source": [
    "guessMe = 0\n",
    "\n",
    "for number in range(10):\n",
    "    if number < guessMe:\n",
    "        print(\"too low\")\n",
    "    elif number == guessMe:\n",
    "        print(\"found it!\")\n",
    "        break\n",
    "    else:  \n",
    "        print(\"oops\")\n",
    "        break"
   ]
  },
  {
   "cell_type": "code",
   "execution_count": null,
   "id": "3d655ff2-47c6-48a5-aec2-288051e968dc",
   "metadata": {},
   "outputs": [],
   "source": []
  }
 ],
 "metadata": {
  "kernelspec": {
   "display_name": "Python 3 (ipykernel)",
   "language": "python",
   "name": "python3"
  },
  "language_info": {
   "codemirror_mode": {
    "name": "ipython",
    "version": 3
   },
   "file_extension": ".py",
   "mimetype": "text/x-python",
   "name": "python",
   "nbconvert_exporter": "python",
   "pygments_lexer": "ipython3",
   "version": "3.13.5"
  }
 },
 "nbformat": 4,
 "nbformat_minor": 5
}
