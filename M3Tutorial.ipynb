{
 "cells": [
  {
   "cell_type": "code",
   "execution_count": 3,
   "id": "24747fb2",
   "metadata": {},
   "outputs": [],
   "source": [
    "class Solution:\n",
    "    def sort012(self, arr):\n",
    "        low = 0\n",
    "        mid = 0\n",
    "        high = len(arr) - 1\n",
    "\n",
    "        while mid <= high:\n",
    "            if arr[mid] == 0:\n",
    "                arr[low], arr[mid] = arr[mid], arr[low]\n",
    "                low += 1\n",
    "                mid += 1\n",
    "            elif arr[mid] == 1:\n",
    "                mid += 1\n",
    "            else:\n",
    "                arr[mid], arr[high] = arr[high], arr[mid]\n",
    "                high -= 1\n",
    "        return arr"
   ]
  },
  {
   "cell_type": "code",
   "execution_count": 4,
   "id": "e5d2e0d9",
   "metadata": {},
   "outputs": [],
   "source": [
    "class Solution:\n",
    "    def binarysearch(self, arr, k):\n",
    "        low = 0\n",
    "        high = len(arr) - 1\n",
    "        result = -1\n",
    "        \n",
    "        while low <= high:\n",
    "            mid = (low + high) // 2\n",
    "            \n",
    "            if arr[mid] == k:\n",
    "                result = mid\n",
    "                \n",
    "                high = mid - 1\n",
    "            elif arr[mid] < k:\n",
    "                low = mid + 1\n",
    "            else:\n",
    "                high = mid - 1\n",
    "                \n",
    "        return result\n",
    "        "
   ]
  }
 ],
 "metadata": {
  "kernelspec": {
   "display_name": "base",
   "language": "python",
   "name": "python3"
  },
  "language_info": {
   "codemirror_mode": {
    "name": "ipython",
    "version": 3
   },
   "file_extension": ".py",
   "mimetype": "text/x-python",
   "name": "python",
   "nbconvert_exporter": "python",
   "pygments_lexer": "ipython3",
   "version": "3.13.5"
  }
 },
 "nbformat": 4,
 "nbformat_minor": 5
}
