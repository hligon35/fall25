{
 "cells": [
  {
   "cell_type": "code",
   "execution_count": 44,
   "id": "f61ff462",
   "metadata": {},
   "outputs": [],
   "source": [
    "#7.4 Create list with the given strings\n",
    "things = [\"mozzarella\", \"cinderella\", \"salmonella\"]"
   ]
  },
  {
   "cell_type": "code",
   "execution_count": 45,
   "id": "dba977fb",
   "metadata": {},
   "outputs": [
    {
     "name": "stdout",
     "output_type": "stream",
     "text": [
      "['mozzarella', 'Cinderella', 'salmonella']\n",
      "Yes, it capitalized the element in the list.\n"
     ]
    }
   ],
   "source": [
    "#7.5 Capitalize element refering to a person\n",
    "things[1] = things[1].capitalize()\n",
    "\n",
    "# Print updated list\n",
    "print(things)\n",
    "print(\"Yes, it capitalized the element in the list.\")"
   ]
  },
  {
   "cell_type": "code",
   "execution_count": 46,
   "id": "61769c4d",
   "metadata": {},
   "outputs": [
    {
     "name": "stdout",
     "output_type": "stream",
     "text": [
      "['MOZZARELLA', 'Cinderella', 'salmonella']\n"
     ]
    }
   ],
   "source": [
    "#7.6 Cheesy element is \"mozzarella\"\n",
    "things[0] = things[0].upper()\n",
    "\n",
    "# Print updated list\n",
    "print(things)\n"
   ]
  },
  {
   "cell_type": "code",
   "execution_count": 47,
   "id": "f437d4ea",
   "metadata": {},
   "outputs": [
    {
     "name": "stdout",
     "output_type": "stream",
     "text": [
      "\n",
      "Congratulations! You just won the Nobel Prize!\n",
      "['MOZZARELLA', 'Cinderella']\n"
     ]
    }
   ],
   "source": [
    "#7.7 Remove disease-causing element\n",
    "things.remove(\"salmonella\")\n",
    "\n",
    "# Celebrate your Nobel Prize\n",
    "print(\"\\nCongratulations! You just won the Nobel Prize!\")\n",
    "\n",
    "# Print updated list\n",
    "print(things)"
   ]
  },
  {
   "cell_type": "code",
   "execution_count": 48,
   "id": "5ec82ab6",
   "metadata": {},
   "outputs": [
    {
     "name": "stdout",
     "output_type": "stream",
     "text": [
      "['Harry', 'Ron', 'Hermione']\n"
     ]
    }
   ],
   "source": [
    "#9.1 Define function\n",
    "def good():\n",
    "    return ['Harry', 'Ron', 'Hermione']\n",
    "\n",
    "# Test function\n",
    "good_list = good()\n",
    "print(good_list)"
   ]
  },
  {
   "cell_type": "code",
   "execution_count": 49,
   "id": "212a5c61",
   "metadata": {},
   "outputs": [
    {
     "name": "stdout",
     "output_type": "stream",
     "text": [
      "1\n",
      "3\n",
      "5\n",
      "7\n",
      "9\n",
      "The third odd number is: 5\n"
     ]
    }
   ],
   "source": [
    "#9.2 Define generator function\n",
    "def get_odds():\n",
    "    count = 0\n",
    "    for num in range(10):\n",
    "        if num % 2 == 1:\n",
    "            count += 1\n",
    "            yield num\n",
    "\n",
    "# Print odd numbers from 0-10\n",
    "for odd in get_odds():\n",
    "    print(odd)\n",
    "\n",
    "# Print third value returned\n",
    "odds_gen = get_odds()\n",
    "for i in range(3):\n",
    "    third_odd = next(odds_gen)\n",
    "print(\"The third odd number is:\", third_odd)"
   ]
  }
 ],
 "metadata": {
  "kernelspec": {
   "display_name": "base",
   "language": "python",
   "name": "python3"
  },
  "language_info": {
   "codemirror_mode": {
    "name": "ipython",
    "version": 3
   },
   "file_extension": ".py",
   "mimetype": "text/x-python",
   "name": "python",
   "nbconvert_exporter": "python",
   "pygments_lexer": "ipython3",
   "version": "3.13.5"
  }
 },
 "nbformat": 4,
 "nbformat_minor": 5
}
